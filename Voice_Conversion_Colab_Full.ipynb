{
 "cells": [
  {
   "cell_type": "markdown",
   "id": "715bc124",
   "metadata": {},
   "source": [
    "\n",
    "# 🎤 Full Voice Conversion Colab (RVC WebUI + Demucs + Auto‑Mix)\n",
    "\n",
    "Этот ноутбук «под ключ»:\n",
    "1) Подключает Google Drive и создаёт папки проекта.  \n",
    "2) (Опционально) Разделяет стемы (Demucs).  \n",
    "3) Ставит **RVC WebUI** и запускает веб‑интерфейс (Gradio) в Colab.  \n",
    "4) Автосводит `instrumental.wav` + `converted.wav` в финальную песню (FFmpeg).  \n",
    "\n",
    "> **Как пользоваться**: запускайте ячейки сверху вниз. Для обучения/конвертации откроется веб‑ссылка Gradio (RVC WebUI), где вы загрузите свои записи и сделаете замену вокала.\n"
   ]
  },
  {
   "cell_type": "markdown",
   "id": "04fc29a3",
   "metadata": {},
   "source": [
    "## 1) Подключаем Google Drive"
   ]
  },
  {
   "cell_type": "code",
   "execution_count": null,
   "id": "87c152ba",
   "metadata": {},
   "outputs": [],
   "source": [
    "\n",
    "from google.colab import drive\n",
    "drive.mount('/content/drive')\n"
   ]
  },
  {
   "cell_type": "markdown",
   "id": "4deca9ec",
   "metadata": {},
   "source": [
    "\n",
    "## 2) Создаём рабочие папки на Диске\n",
    "Структура:\n",
    "```\n",
    "MyDrive/RVC_Project/\n",
    "  train_audio/\n",
    "  input_song/\n",
    "  outputs/\n",
    "  stems/\n",
    "  models/\n",
    "```\n"
   ]
  },
  {
   "cell_type": "code",
   "execution_count": null,
   "id": "e5d2a2d9",
   "metadata": {},
   "outputs": [],
   "source": [
    "\n",
    "import os\n",
    "\n",
    "BASE = \"/content/drive/MyDrive/RVC_Project\"\n",
    "folders = [f\"{BASE}/train_audio\", f\"{BASE}/input_song\", f\"{BASE}/outputs\", f\"{BASE}/stems\", f\"{BASE}/models\"]\n",
    "for d in folders:\n",
    "    os.makedirs(d, exist_ok=True)\n",
    "print(\"Готово. База проекта:\", BASE)\n"
   ]
  },
  {
   "cell_type": "markdown",
   "id": "44905cb4",
   "metadata": {},
   "source": [
    "\n",
    "## 3) (Опционально) Загрузка файлов напрямую (с телефона/ПК)\n"
   ]
  },
  {
   "cell_type": "code",
   "execution_count": null,
   "id": "8166e729",
   "metadata": {},
   "outputs": [],
   "source": [
    "\n",
    "from google.colab import files\n",
    "import shutil, os\n",
    "print(\"Выберите файлы. Они будут перемещены в /RVC_Project/input_song\")\n",
    "uploaded = files.upload()\n",
    "DEST = \"/content/drive/MyDrive/RVC_Project/input_song\"\n",
    "os.makedirs(DEST, exist_ok=True)\n",
    "for name in uploaded.keys():\n",
    "    shutil.move(name, f\"{DEST}/{name}\")\n",
    "print(\"Готово →\", DEST)\n"
   ]
  },
  {
   "cell_type": "markdown",
   "id": "3126a94b",
   "metadata": {},
   "source": [
    "\n",
    "## 4) (Опционально) Разделение стемов (Demucs)\n"
   ]
  },
  {
   "cell_type": "code",
   "execution_count": null,
   "id": "37785134",
   "metadata": {},
   "outputs": [],
   "source": [
    "\n",
    "!pip -q install demucs\n",
    "import os, glob, shutil, pathlib\n",
    "INPUT = \"/content/drive/MyDrive/RVC_Project/input_song\"\n",
    "STEMS = \"/content/drive/MyDrive/RVC_Project/stems\"\n",
    "os.makedirs(STEMS, exist_ok=True)\n",
    "files = sorted(glob.glob(os.path.join(INPUT, \"*\")))\n",
    "assert files, \"Положите файл песни в RVC_Project/input_song\"\n",
    "song = files[0]\n",
    "print(\"Разделяем:\", song)\n",
    "!python -m demucs.separate -n mdx_extra_q --two-stems=vocals -o \"/content\" \"$song\"\n",
    "out_dir = list(pathlib.Path(\"/content/separated/mdx_extra_q\").glob(\"*\"))[0]\n",
    "for p in out_dir.glob(\"*\"):\n",
    "    shutil.move(str(p), os.path.join(STEMS, p.name))\n",
    "print(\"Готово. Проверьте:\", STEMS)\n"
   ]
  },
  {
   "cell_type": "markdown",
   "id": "7c3f0091",
   "metadata": {},
   "source": [
    "\n",
    "## 5) Установка и запуск RVC WebUI (Gradio)\n"
   ]
  },
  {
   "cell_type": "code",
   "execution_count": null,
   "id": "1b6ea27d",
   "metadata": {},
   "outputs": [],
   "source": [
    "\n",
    "!apt -qq update\n",
    "!apt -qq install -y ffmpeg\n",
    "!pip -q install torch torchvision torchaudio --index-url https://download.pytorch.org/whl/cu121\n",
    "%cd /content\n",
    "!git clone -q https://github.com/RVC-Project/Retrieval-based-Voice-Conversion-WebUI rvc\n",
    "%cd /content/rvc\n",
    "!pip -q install -r requirements.txt\n",
    "print(\"Готово к запуску WebUI\")\n"
   ]
  },
  {
   "cell_type": "markdown",
   "id": "3fd9af7c",
   "metadata": {},
   "source": [
    "\n",
    "### 5.1) Запуск WebUI\n",
    "После запуска появится ссылка **Gradio**.\n"
   ]
  },
  {
   "cell_type": "code",
   "execution_count": null,
   "id": "52479de1",
   "metadata": {},
   "outputs": [],
   "source": [
    "\n",
    "%cd /content/rvc\n",
    "!python infer-web.py --colab\n"
   ]
  },
  {
   "cell_type": "markdown",
   "id": "d040ed21",
   "metadata": {},
   "source": [
    "\n",
    "## 6) Автосведение `instrumental.wav` + `converted.wav`\n"
   ]
  },
  {
   "cell_type": "code",
   "execution_count": null,
   "id": "61c15535",
   "metadata": {},
   "outputs": [],
   "source": [
    "\n",
    "PROJECT_DIR = \"/content/drive/MyDrive/RVC_Project\"\n",
    "INPUT_DIR   = f\"{PROJECT_DIR}/input_song\"\n",
    "OUTPUT_DIR  = f\"{PROJECT_DIR}/outputs\"\n",
    "INSTRUMENTAL = f\"{INPUT_DIR}/instrumental.wav\"\n",
    "VOCAL        = f\"{OUTPUT_DIR}/converted.wav\"\n",
    "FINAL_OUT    = f\"{OUTPUT_DIR}/FINAL_mix.wav\"\n",
    "FINAL_MP3    = f\"{OUTPUT_DIR}/FINAL_mix.mp3\"\n",
    "OFFSET_SEC  = 0.00\n",
    "VOC_GAIN_DB = -1.0\n",
    "INS_GAIN_DB = 0.0\n",
    "!apt -qq install -y ffmpeg\n",
    "import subprocess, math\n",
    "offset_ms = max(0, int(round(OFFSET_SEC * 1000)))\n",
    "if OFFSET_SEC >= 0:\n",
    "    delay_filter = f\"[1:a]volume={VOC_GAIN_DB}dB,adelay={offset_ms}|{offset_ms}[v]\"\n",
    "    trim_instr   = f\"[0:a]volume={INS_GAIN_DB}dB[i]\"\n",
    "else:\n",
    "    trim_sec     = abs(OFFSET_SEC)\n",
    "    delay_filter = f\"[1:a]atrim=start={trim_sec},asetpts=PTS-STARTPTS,volume={VOC_GAIN_DB}dB[v]\"\n",
    "    trim_instr   = f\"[0:a]volume={INS_GAIN_DB}dB[i]\"\n",
    "filter_complex = f\"{trim_instr};{delay_filter};[i][v]amix=inputs=2:duration=first:normalize=0:dropout_transition=0,loudnorm=I=-14:TP=-1.5:LRA=11\"\n",
    "cmd_wav = [\"ffmpeg\",\"-y\",\"-i\",INSTRUMENTAL,\"-i\",VOCAL,\"-filter_complex\",filter_complex,\"-ar\",\"44100\",\"-ac\",\"2\",\"-c:a\",\"pcm_s16le\",FINAL_OUT]\n",
    "print(\">>> Сводим в WAV…\")\n",
    "subprocess.run(cmd_wav, check=True)\n",
    "print(\"Готово:\", FINAL_OUT)\n",
    "cmd_mp3 = [\"ffmpeg\",\"-y\",\"-i\",FINAL_OUT,\"-c:a\",\"libmp3lame\",\"-b:a\",\"320k\",FINAL_MP3]\n",
    "subprocess.run(cmd_mp3, check=True)\n",
    "print(\"Также сохранено MP3:\", FINAL_MP3)\n"
   ]
  },
  {
   "cell_type": "markdown",
   "id": "17698f7a",
   "metadata": {},
   "source": [
    "\n",
    "## 7) (Опционально) Sidechain‑компрессия\n"
   ]
  },
  {
   "cell_type": "code",
   "execution_count": null,
   "id": "1e434d6f",
   "metadata": {},
   "outputs": [],
   "source": [
    "\n",
    "PROJECT_DIR = \"/content/drive/MyDrive/RVC_Project\"\n",
    "INPUT_DIR   = f\"{PROJECT_DIR}/input_song\"\n",
    "OUTPUT_DIR  = f\"{PROJECT_DIR}/outputs\"\n",
    "INSTRUMENTAL = f\"{INPUT_DIR}/instrumental.wav\"\n",
    "VOCAL        = f\"{OUTPUT_DIR}/converted.wav\"\n",
    "FINAL_SC     = f\"{OUTPUT_DIR}/FINAL_mix_sidechain.wav\"\n",
    "THRESHOLD,RATIO,ATTACK_MS,RELEASE_MS = -18,4,10,200\n",
    "import subprocess\n",
    "sidechain = (f\"[0:a][1:a]sidechaincompress=threshold={THRESHOLD}dB:ratio={RATIO}:attack={ATTACK_MS}:release={RELEASE_MS}[sc];\"\n",
    "             f\"[sc]loudnorm=I=-14:TP=-1.5:LRA=11\")\n",
    "cmd = [\"ffmpeg\",\"-y\",\"-i\",INSTRUMENTAL,\"-i\",VOCAL,\"-filter_complex\",sidechain,\"-ar\",\"44100\",\"-ac\",\"2\",\"-c:a\",\"pcm_s16le\",FINAL_SC]\n",
    "subprocess.run(cmd, check=True)\n",
    "print(\"Сохранено:\", FINAL_SC)\n"
   ]
  }
 ],
 "metadata": {},
 "nbformat": 4,
 "nbformat_minor": 5
}
